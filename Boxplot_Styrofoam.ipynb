{
 "cells": [
  {
   "cell_type": "code",
   "execution_count": 21,
   "metadata": {},
   "outputs": [],
   "source": [
    "import matplotlib.pyplot as plt\n",
    "import numpy as np\n",
    "import pandas as pd"
   ]
  },
  {
   "cell_type": "code",
   "execution_count": 22,
   "metadata": {},
   "outputs": [],
   "source": [
    "df = pd.read_excel(\"graphperobject.xlsx\", \n",
    "                   sheet_name=['A','B','C','D','E','F','G','H'])"
   ]
  },
  {
   "cell_type": "code",
   "execution_count": 23,
   "metadata": {},
   "outputs": [
    {
     "data": {
      "text/html": [
       "<div>\n",
       "<style scoped>\n",
       "    .dataframe tbody tr th:only-of-type {\n",
       "        vertical-align: middle;\n",
       "    }\n",
       "\n",
       "    .dataframe tbody tr th {\n",
       "        vertical-align: top;\n",
       "    }\n",
       "\n",
       "    .dataframe thead th {\n",
       "        text-align: right;\n",
       "    }\n",
       "</style>\n",
       "<table border=\"1\" class=\"dataframe\">\n",
       "  <thead>\n",
       "    <tr style=\"text-align: right;\">\n",
       "      <th></th>\n",
       "      <th>Num</th>\n",
       "      <th>FID</th>\n",
       "      <th>R</th>\n",
       "      <th>G</th>\n",
       "      <th>B</th>\n",
       "    </tr>\n",
       "  </thead>\n",
       "  <tbody>\n",
       "    <tr>\n",
       "      <th>0</th>\n",
       "      <td>1</td>\n",
       "      <td>1</td>\n",
       "      <td>188</td>\n",
       "      <td>186</td>\n",
       "      <td>173</td>\n",
       "    </tr>\n",
       "    <tr>\n",
       "      <th>1</th>\n",
       "      <td>2</td>\n",
       "      <td>1</td>\n",
       "      <td>249</td>\n",
       "      <td>242</td>\n",
       "      <td>228</td>\n",
       "    </tr>\n",
       "    <tr>\n",
       "      <th>2</th>\n",
       "      <td>3</td>\n",
       "      <td>1</td>\n",
       "      <td>255</td>\n",
       "      <td>255</td>\n",
       "      <td>239</td>\n",
       "    </tr>\n",
       "    <tr>\n",
       "      <th>3</th>\n",
       "      <td>4</td>\n",
       "      <td>1</td>\n",
       "      <td>240</td>\n",
       "      <td>236</td>\n",
       "      <td>233</td>\n",
       "    </tr>\n",
       "    <tr>\n",
       "      <th>4</th>\n",
       "      <td>5</td>\n",
       "      <td>1</td>\n",
       "      <td>248</td>\n",
       "      <td>248</td>\n",
       "      <td>238</td>\n",
       "    </tr>\n",
       "  </tbody>\n",
       "</table>\n",
       "</div>"
      ],
      "text/plain": [
       "   Num  FID    R    G    B\n",
       "0    1    1  188  186  173\n",
       "1    2    1  249  242  228\n",
       "2    3    1  255  255  239\n",
       "3    4    1  240  236  233\n",
       "4    5    1  248  248  238"
      ]
     },
     "execution_count": 23,
     "metadata": {},
     "output_type": "execute_result"
    }
   ],
   "source": [
    "H_df = df.get('H')\n",
    "H_df.head()"
   ]
  },
  {
   "cell_type": "code",
   "execution_count": 24,
   "metadata": {},
   "outputs": [
    {
     "data": {
      "text/html": [
       "<div>\n",
       "<style scoped>\n",
       "    .dataframe tbody tr th:only-of-type {\n",
       "        vertical-align: middle;\n",
       "    }\n",
       "\n",
       "    .dataframe tbody tr th {\n",
       "        vertical-align: top;\n",
       "    }\n",
       "\n",
       "    .dataframe thead th {\n",
       "        text-align: right;\n",
       "    }\n",
       "</style>\n",
       "<table border=\"1\" class=\"dataframe\">\n",
       "  <thead>\n",
       "    <tr style=\"text-align: right;\">\n",
       "      <th></th>\n",
       "      <th>R</th>\n",
       "      <th>G</th>\n",
       "      <th>B</th>\n",
       "    </tr>\n",
       "  </thead>\n",
       "  <tbody>\n",
       "    <tr>\n",
       "      <th>0</th>\n",
       "      <td>188</td>\n",
       "      <td>186</td>\n",
       "      <td>173</td>\n",
       "    </tr>\n",
       "    <tr>\n",
       "      <th>1</th>\n",
       "      <td>249</td>\n",
       "      <td>242</td>\n",
       "      <td>228</td>\n",
       "    </tr>\n",
       "    <tr>\n",
       "      <th>2</th>\n",
       "      <td>255</td>\n",
       "      <td>255</td>\n",
       "      <td>239</td>\n",
       "    </tr>\n",
       "    <tr>\n",
       "      <th>3</th>\n",
       "      <td>240</td>\n",
       "      <td>236</td>\n",
       "      <td>233</td>\n",
       "    </tr>\n",
       "    <tr>\n",
       "      <th>4</th>\n",
       "      <td>248</td>\n",
       "      <td>248</td>\n",
       "      <td>238</td>\n",
       "    </tr>\n",
       "  </tbody>\n",
       "</table>\n",
       "</div>"
      ],
      "text/plain": [
       "     R    G    B\n",
       "0  188  186  173\n",
       "1  249  242  228\n",
       "2  255  255  239\n",
       "3  240  236  233\n",
       "4  248  248  238"
      ]
     },
     "execution_count": 24,
     "metadata": {},
     "output_type": "execute_result"
    }
   ],
   "source": [
    "H_df = H_df.drop('Num',axis=1)\n",
    "H_df = H_df.drop('FID',axis=1)\n",
    "\n",
    "H_df.head()"
   ]
  },
  {
   "cell_type": "code",
   "execution_count": 25,
   "metadata": {},
   "outputs": [],
   "source": [
    "labels = ['Red', 'Green', 'Blue']"
   ]
  },
  {
   "cell_type": "code",
   "execution_count": 26,
   "metadata": {},
   "outputs": [
    {
     "data": {
      "image/png": "[encoded data removed]",
      "text/plain": [
       "<Figure size 640x480 with 1 Axes>"
      ]
     },
     "metadata": {},
     "output_type": "display_data"
    }
   ],
   "source": [
    "#---Styrofoam---\n",
    "\n",
    "fig, ax = plt.subplots()\n",
    "# rectangular box plot\n",
    "bplot = ax.boxplot(H_df, patch_artist=True, labels=labels)  \n",
    "ax.set_title('Styrofoam')\n",
    "\n",
    "# fill with colors\n",
    "colors = ['red', 'green', 'blue']\n",
    "for patch, color in zip(bplot['boxes'], colors):\n",
    "    patch.set_facecolor(color)\n",
    "\n",
    "# adding horizontal grid lines\n",
    "ax.yaxis.grid(True)\n",
    "#ax.set_xlabel('Three separate samples')\n",
    "ax.set_ylabel('Reflectance Values (DN)')\n",
    "ymin = 0\n",
    "ymax = 300\n",
    "ax = plt.gca()\n",
    "#ax.set_xlim([xmin, xmax])\n",
    "ax.set_ylim([ymin, ymax])\n",
    "\n",
    "plt.show()"
   ]
  },
  {
   "cell_type": "code",
   "execution_count": 27,
   "metadata": {},
   "outputs": [],
   "source": [
    "def get_summary_statistics(H_df):\n",
    "    \n",
    "    mean = np.round(np.mean(H_df), 2)\n",
    "    median = np.round(np.median(H_df), 2)\n",
    "    min_value = np.round(H_df.min(), 2)\n",
    "    max_value = np.round(H_df.max(), 2)\n",
    "    quartile_1 = np.round(H_df.quantile(0.25), 2)\n",
    "    quartile_3 = np.round(H_df.quantile(0.75), 2)\n",
    "    # Interquartile range\n",
    "    iqr = np.round(quartile_3 - quartile_1, 2)\n",
    "    print('Min: %s' % min_value)\n",
    "    print('Mean: %s' % mean)\n",
    "    print('Max: %s' % max_value)\n",
    "    print('25th percentile: %s' % quartile_1)\n",
    "    print('Median: %s' % median)\n",
    "    print('75th percentile: %s' % quartile_3)\n",
    "    print('Interquartile range (IQR): %s' % iqr)\n",
    "    print('Plastic bag with re color summary statistics')"
   ]
  },
  {
   "cell_type": "code",
   "execution_count": 28,
   "metadata": {},
   "outputs": [
    {
     "name": "stdout",
     "output_type": "stream",
     "text": [
      "\n",
      "\n",
      "R Band\n",
      "Min: 120\n",
      "Mean: 236.38\n",
      "Max: 255\n",
      "25th percentile: 227.0\n",
      "Median: 250.5\n",
      "75th percentile: 255.0\n",
      "Interquartile range (IQR): 28.0\n",
      "Plastic bag with re color summary statistics\n"
     ]
    }
   ],
   "source": [
    "print('\\n\\nR Band')\n",
    "get_summary_statistics(H_df['R'])"
   ]
  },
  {
   "cell_type": "code",
   "execution_count": 29,
   "metadata": {},
   "outputs": [
    {
     "name": "stdout",
     "output_type": "stream",
     "text": [
      "\n",
      "\n",
      "G Band\n",
      "Min: 113\n",
      "Mean: 237.39\n",
      "Max: 255\n",
      "25th percentile: 236.0\n",
      "Median: 252.0\n",
      "75th percentile: 255.0\n",
      "Interquartile range (IQR): 19.0\n",
      "Plastic bag with re color summary statistics\n"
     ]
    }
   ],
   "source": [
    "print('\\n\\nG Band')\n",
    "get_summary_statistics(H_df['G'])"
   ]
  },
  {
   "cell_type": "code",
   "execution_count": 30,
   "metadata": {},
   "outputs": [
    {
     "name": "stdout",
     "output_type": "stream",
     "text": [
      "\n",
      "\n",
      "B Band\n",
      "Min: 102\n",
      "Mean: 235.8\n",
      "Max: 255\n",
      "25th percentile: 241.0\n",
      "Median: 247.0\n",
      "75th percentile: 252.0\n",
      "Interquartile range (IQR): 11.0\n",
      "Plastic bag with re color summary statistics\n"
     ]
    }
   ],
   "source": [
    "print('\\n\\nB Band')\n",
    "get_summary_statistics(H_df['B'])"
   ]
  }
 ],
 "metadata": {
  "kernelspec": {
   "display_name": "rstudio",
   "language": "python",
   "name": "python3"
  },
  "language_info": {
   "codemirror_mode": {
    "name": "ipython",
    "version": 3
   },
   "file_extension": ".py",
   "mimetype": "text/x-python",
   "name": "python",
   "nbconvert_exporter": "python",
   "pygments_lexer": "ipython3",
   "version": "3.10.13"
  },
  "orig_nbformat": 4
 },
 "nbformat": 4,
 "nbformat_minor": 2
}
